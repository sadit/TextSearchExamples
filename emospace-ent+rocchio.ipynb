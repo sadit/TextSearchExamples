{
 "cells": [
  {
   "cell_type": "markdown",
   "metadata": {},
   "source": [
    "# Working with Entropy based weighting and the Rocchio classifier.\n",
    "Author: Eric S. Tellez -- [donsadit@gmail.com](mailto:donsadit@gmail.com)\n",
    "\n",
    "## Abstract\n",
    "\n",
    "Another interesting way to represent a text in multiclass problems is the use of class-distributional representations, where each token is represented by its latent distribution. Here we test a simpler scheme based on a single number, a token's weight based on its empirical distribution's entropy. This scheme can be of use while solving complex tasks and many times its performance can surpass that of other more complex schemes. Additionally, this tutorial also presents how to use the Rocchio classifier implemented in `TextSearch.jl`, a simple classifier, specially designed for multiclass linear problems, which can be used whenever other schemes cannot be used.\n",
    "\n",
    "\n",
    "## Preparation\n",
    "The first step consists on initializing our environment and downloading our data.\n"
   ]
  },
  {
   "cell_type": "code",
   "execution_count": 1,
   "metadata": {},
   "outputs": [
    {
     "name": "stdout",
     "output_type": "stream",
     "text": [
      "\u001b[32m\u001b[1mActivating\u001b[22m\u001b[39m environment at `~/Research/TextSearch.jl/examples/Project.toml`\n"
     ]
    },
    {
     "data": {
      "text/html": [
       "<table class=\"data-frame\"><thead><tr><th></th><th>klass</th><th>text</th></tr><tr><th></th><th>String</th><th>String</th></tr></thead><tbody><p>12,522 rows × 2 columns</p><tr><th>1</th><td>😰</td><td>@DanuFSanz Me gustaría amika pero tengo una panza enorme _emo_ </td></tr><tr><th>2</th><td>😥</td><td>Debería de estar en mi casa, no aquí sufriendo porque no hay luz _emo_ </td></tr><tr><th>3</th><td>😊</td><td>@PowerMusicRadio _emo_ Voto X #HayAmores de @julionalvarez para que ingrese en él #TopPower con @yuyu_perez @NoticiasJulion @ViejonasJAySNB</td></tr><tr><th>4</th><td>♡</td><td>@CelopanYT Muy buenos días bae _emo_ </td></tr><tr><th>5</th><td>💔</td><td>@IsamarPortilla Gracias no era necesario, después de que me rompes el corazón _emo_ </td></tr><tr><th>6</th><td>🙂</td><td>Buena idea venir a mis trámites donde hubiera mi gym pa desestresarme! _emo_ (at @SmartFit_mex) _url_ _url_ </td></tr><tr><th>7</th><td>😋</td><td>Lasaña!!!. _emo_ _emo_ _emo_ @ Postodoro Xalapa Centro _url_ </td></tr><tr><th>8</th><td>😊</td><td>Hay que aprender a vivir nuestra vida y dejar a los demás vivir la suya _emo_ </td></tr><tr><th>9</th><td>♡</td><td>Tu por siempre _emo_ _url_ </td></tr><tr><th>10</th><td>😪</td><td>A penas tuve un problema con una R en una guardia porque la muy idiota creyó que andaba con el residente que seguramente le gustaba. Y cuando descubrió que literal, SÓLÓ ERA MI AMIGO!!... Ya me había hecho sacarle todos sus pendientes la muy tarada!! 🤦🏻\\u200d♀️ _emo_ </td></tr><tr><th>11</th><td>😤</td><td>¿Cómo que no hay donde estacionarse? _emo_ (@ Casco Santo Tomas in Miguel Hidalgo, Mexico City) _url_ </td></tr><tr><th>12</th><td>♡</td><td>@GuadalajaraGob es cierto! Ahorita mismo lo hago ☺ gracias =) _emo_ </td></tr><tr><th>13</th><td>😊</td><td>Hoy vi Cold War y me encantaron las tomas y la música. _emo_ </td></tr><tr><th>14</th><td>😂</td><td>@Matette _emo_ _emo_ _emo_ _emo_ saludos!!!!</td></tr><tr><th>15</th><td>😊</td><td> _emo_ (@ Las Vegas II in Boca del Río, Veracruz-Llave) _url_ </td></tr><tr><th>16</th><td>🤣</td><td>Neta se maman estos weyes netaaaa jajaja _emo_ </td></tr><tr><th>17</th><td>♡</td><td>Lo ame! _emo_ @Eddy_SKabeche @Bryan_SKabeche @SKabecheTV #RoastSKabeche #RoastSKabeche #RoastSKabeche _url_ </td></tr><tr><th>18</th><td>🤣</td><td>Cuando en una reunión de hombres hay una plática sobre las princesas de #Disney es indicativo de _______. *complete la oración* _emo_ </td></tr><tr><th>19</th><td>♡</td><td>@Ivy_MorenoRey Es que es super romántico y sentimental _emo_ </td></tr><tr><th>20</th><td>♡</td><td>#NuevaFotoDePerfil Superviviente si, maldita sea nunca me cansaré de celebralo.. JSabina _emo_ _url_ </td></tr><tr><th>21</th><td>😥</td><td>No había llegado a esa etapa de que sentía ganas de volver a drogarme _emo_ #UnChavoRucoSiempre</td></tr><tr><th>22</th><td>😥</td><td>#DiaDeLaCandelaria las putas 5 de la tarde y no me he jambado ni un tamal... Debe ser por no haber compartido esa flor de la abundancia _emo_ </td></tr><tr><th>23</th><td>😫</td><td>Tengo un trauma con una canción cero cool. _emo_ </td></tr><tr><th>24</th><td>😍</td><td>@PaolaRuiz_1 hermosaaa _emo_ _emo_ </td></tr><tr><th>25</th><td>😤</td><td>Aquí no se les ven ganas de traerme la comida _emo_ </td></tr><tr><th>26</th><td>♡</td><td>Tu saltas, yo salto, no importa si es de paracaídas o bungee. Te amo demasiado brouu. #YoMeRifoConJuanpa _emo_ 7725</td></tr><tr><th>27</th><td>😍</td><td>Iniciando bien el año viendo a @LINCPAL #SraAcero2 _emo_ 👍🎉</td></tr><tr><th>28</th><td>💔</td><td>Duele más un visto de mi tutora que un visto tuyo _emo_ </td></tr><tr><th>29</th><td>😊</td><td>@april_bibi A nosotros nos han gustado ambas temporadas _emo_ #SharkTankMx🦈</td></tr><tr><th>30</th><td>🤣</td><td>Como me caga la gente que habla sin saber qpd _emo_ _emo_ </td></tr><tr><th>&vellip;</th><td>&vellip;</td><td>&vellip;</td></tr></tbody></table>"
      ],
      "text/latex": [
       "\\begin{tabular}{r|cc}\n",
       "\t& klass & text\\\\\n",
       "\t\\hline\n",
       "\t& String & String\\\\\n",
       "\t\\hline\n",
       "\t1 & 😰 & @DanuFSanz Me gustaría amika pero tengo una panza enorme \\_emo\\_  \\\\\n",
       "\t2 & 😥 & Debería de estar en mi casa, no aquí sufriendo porque no hay luz \\_emo\\_  \\\\\n",
       "\t3 & 😊 & @PowerMusicRadio \\_emo\\_ Voto X \\#HayAmores de @julionalvarez para que ingrese en él \\#TopPower con @yuyu\\_perez @NoticiasJulion @ViejonasJAySNB \\\\\n",
       "\t4 & ♡ & @CelopanYT Muy buenos días bae \\_emo\\_  \\\\\n",
       "\t5 & 💔 & @IsamarPortilla Gracias no era necesario, después de que me rompes el corazón \\_emo\\_  \\\\\n",
       "\t6 & 🙂 & Buena idea venir a mis trámites donde hubiera mi gym pa desestresarme! \\_emo\\_ (at @SmartFit\\_mex) \\_url\\_ \\_url\\_  \\\\\n",
       "\t7 & 😋 & Lasaña!!!. \\_emo\\_ \\_emo\\_ \\_emo\\_ @ Postodoro Xalapa Centro \\_url\\_  \\\\\n",
       "\t8 & 😊 & Hay que aprender a vivir nuestra vida y dejar a los demás vivir la suya \\_emo\\_  \\\\\n",
       "\t9 & ♡ & Tu por siempre \\_emo\\_ \\_url\\_  \\\\\n",
       "\t10 & 😪 & A penas tuve un problema con una R en una guardia porque la muy idiota creyó que andaba con el residente que seguramente le gustaba. Y cuando descubrió que literal, SÓLÓ ERA MI AMIGO!!... Ya me había hecho sacarle todos sus pendientes la muy tarada!! 🤦🏻\\textbackslash{}u200d♀️ \\_emo\\_  \\\\\n",
       "\t11 & 😤 & ¿Cómo que no hay donde estacionarse? \\_emo\\_ (@ Casco Santo Tomas in Miguel Hidalgo, Mexico City) \\_url\\_  \\\\\n",
       "\t12 & ♡ & @GuadalajaraGob es cierto! Ahorita mismo lo hago ☺ gracias =) \\_emo\\_  \\\\\n",
       "\t13 & 😊 & Hoy vi Cold War y me encantaron las tomas y la música. \\_emo\\_  \\\\\n",
       "\t14 & 😂 & @Matette \\_emo\\_ \\_emo\\_ \\_emo\\_ \\_emo\\_ saludos!!!! \\\\\n",
       "\t15 & 😊 &  \\_emo\\_ (@ Las Vegas II in Boca del Río, Veracruz-Llave) \\_url\\_  \\\\\n",
       "\t16 & 🤣 & Neta se maman estos weyes netaaaa jajaja \\_emo\\_  \\\\\n",
       "\t17 & ♡ & Lo ame! \\_emo\\_ @Eddy\\_SKabeche @Bryan\\_SKabeche @SKabecheTV \\#RoastSKabeche \\#RoastSKabeche \\#RoastSKabeche \\_url\\_  \\\\\n",
       "\t18 & 🤣 & Cuando en una reunión de hombres hay una plática sobre las princesas de \\#Disney es indicativo de \\_\\_\\_\\_\\_\\_\\_. *complete la oración* \\_emo\\_  \\\\\n",
       "\t19 & ♡ & @Ivy\\_MorenoRey Es que es super romántico y sentimental \\_emo\\_  \\\\\n",
       "\t20 & ♡ & \\#NuevaFotoDePerfil Superviviente si, maldita sea nunca me cansaré de celebralo.. JSabina \\_emo\\_ \\_url\\_  \\\\\n",
       "\t21 & 😥 & No había llegado a esa etapa de que sentía ganas de volver a drogarme \\_emo\\_ \\#UnChavoRucoSiempre \\\\\n",
       "\t22 & 😥 & \\#DiaDeLaCandelaria las putas 5 de la tarde y no me he jambado ni un tamal... Debe ser por no haber compartido esa flor de la abundancia \\_emo\\_  \\\\\n",
       "\t23 & 😫 & Tengo un trauma con una canción cero cool. \\_emo\\_  \\\\\n",
       "\t24 & 😍 & @PaolaRuiz\\_1 hermosaaa \\_emo\\_ \\_emo\\_  \\\\\n",
       "\t25 & 😤 & Aquí no se les ven ganas de traerme la comida \\_emo\\_  \\\\\n",
       "\t26 & ♡ & Tu saltas, yo salto, no importa si es de paracaídas o bungee. Te amo demasiado brouu. \\#YoMeRifoConJuanpa \\_emo\\_ 7725 \\\\\n",
       "\t27 & 😍 & Iniciando bien el año viendo a @LINCPAL \\#SraAcero2 \\_emo\\_ 👍🎉 \\\\\n",
       "\t28 & 💔 & Duele más un visto de mi tutora que un visto tuyo \\_emo\\_  \\\\\n",
       "\t29 & 😊 & @april\\_bibi A nosotros nos han gustado ambas temporadas \\_emo\\_ \\#SharkTankMx🦈 \\\\\n",
       "\t30 & 🤣 & Como me caga la gente que habla sin saber qpd \\_emo\\_ \\_emo\\_  \\\\\n",
       "\t$\\dots$ & $\\dots$ & $\\dots$ \\\\\n",
       "\\end{tabular}\n"
      ],
      "text/plain": [
       "12522×2 DataFrame. Omitted printing of 1 columns\n",
       "│ Row   │ klass  │\n",
       "│       │ \u001b[90mString\u001b[39m │\n",
       "├───────┼────────┤\n",
       "│ 1     │ 😰     │\n",
       "│ 2     │ 😥     │\n",
       "│ 3     │ 😊     │\n",
       "│ 4     │ ♡      │\n",
       "│ 5     │ 💔     │\n",
       "│ 6     │ 🙂     │\n",
       "│ 7     │ 😋     │\n",
       "│ 8     │ 😊     │\n",
       "│ 9     │ ♡      │\n",
       "│ 10    │ 😪     │\n",
       "⋮\n",
       "│ 12512 │ 😫     │\n",
       "│ 12513 │ 💔     │\n",
       "│ 12514 │ 😤     │\n",
       "│ 12515 │ 😕     │\n",
       "│ 12516 │ 😫     │\n",
       "│ 12517 │ 😫     │\n",
       "│ 12518 │ 🙂     │\n",
       "│ 12519 │ 🙂     │\n",
       "│ 12520 │ 😥     │\n",
       "│ 12521 │ 😋     │\n",
       "│ 12522 │ 💔     │"
      ]
     },
     "execution_count": 1,
     "metadata": {},
     "output_type": "execute_result"
    }
   ],
   "source": [
    "using Pkg\n",
    "pkg\"activate .\"\n",
    "# uncomment to install the required packages\n",
    "#pkg\"add https://github.com/sadit/SimilaritySearch.jl https://github.com/sadit/TextSearch.jl https://github.com/sadit/KernelMethods.jl LIBLINEAR Random StatsBase CSV DataFrames StatsPlots\"\n",
    "using SimilaritySearch, TextSearch, LIBLINEAR, Random, StatsBase, KernelMethods, CSV, DataFrames, StatsPlots, SparseArrays\n",
    "\n",
    "# fetching data\n",
    "url = \"http://ingeotec.mx/~sadit/emotions.csv\"\n",
    "!isfile(basename(url)) && download(url, basename(url))\n",
    "db = DataFrame(CSV.read(basename(url)))"
   ]
  },
  {
   "cell_type": "code",
   "execution_count": 2,
   "metadata": {},
   "outputs": [
    {
     "data": {
      "text/markdown": [
       "We take a small sample for training and validation collections to estimate the performance of our predictions; here we use a holdout scheme for cross-validation."
      ]
     },
     "metadata": {},
     "output_type": "display_data"
    },
    {
     "data": {
      "text/plain": [
       "sample_and_partition (generic function with 1 method)"
      ]
     },
     "execution_count": 2,
     "metadata": {},
     "output_type": "execute_result"
    }
   ],
   "source": [
    "display(\"text/markdown\", \"We take a small sample for training and validation collections to estimate the performance of our predictions; here we use a holdout scheme for cross-validation.\")\n",
    "        \n",
    "function sample_and_partition(db, n, p)\n",
    "    m = round(Int, n * p)\n",
    "    G = db[sample(1:size(db, 1), n), :]\n",
    "    corpus_train = G.text[1:m]\n",
    "    corpus_test = G.text[m+1:end]\n",
    "    labels_train = G.klass[1:m]\n",
    "    labels_test = G.klass[m+1:end]\n",
    "    le = fit(LabelEncoder, labels_train)\n",
    "    labels_train = KernelMethods.transform.(le, labels_train)\n",
    "    labels_test = KernelMethods.transform.(le, labels_test)\n",
    "\n",
    "    (corpus_train=corpus_train, labels_train=labels_train, corpus_test=corpus_test, labels_test=labels_test, le=le)\n",
    "end\n"
   ]
  },
  {
   "cell_type": "markdown",
   "metadata": {},
   "source": [
    "## The experiments\n",
    "\n",
    "The following functions runs and evaluate the model. The idea is to compare `EntModel` and `VectorModel` (TFIDF vectors) and also compare Rocchio and Linear SVM."
   ]
  },
  {
   "cell_type": "code",
   "execution_count": 3,
   "metadata": {},
   "outputs": [
    {
     "data": {
      "text/plain": [
       "prepare_model (generic function with 1 method)"
      ]
     },
     "execution_count": 3,
     "metadata": {},
     "output_type": "execute_result"
    }
   ],
   "source": [
    "function prepare_model(db, kind, p)\n",
    "    part = sample_and_partition(db, size(db, 1), p)\n",
    "    config = TextConfig(qlist=[5, 7], nlist=[1])\n",
    "    if kind == VectorModel\n",
    "        model = fit(VectorModel, config, part.corpus_train)\n",
    "    else\n",
    "        model = fit(EntModel, config, part.corpus_train, part.labels_train, smooth=0.0)\n",
    "    end\n",
    "\n",
    "    @info \"vocabulary: $(length(model.tokens))\"\n",
    "    Xtrain = [vectorize(model, text) for text in part.corpus_train]\n",
    "    Xtest = [vectorize(model, text) for text in part.corpus_test]\n",
    "    \n",
    "    (part=part, model=model, Xtrain=Xtrain, Xtest=Xtest)\n",
    "end"
   ]
  },
  {
   "cell_type": "code",
   "execution_count": 6,
   "metadata": {},
   "outputs": [
    {
     "name": "stderr",
     "output_type": "stream",
     "text": [
      "fitting VectorModel with 11270 items\n",
      "xxxxxxxxxxxfinished VectorModel: 11270 processed items, voc-size: 341836\n",
      "┌ Info: vocabulary: 341836\n",
      "└ @ Main In[3]:10\n",
      "fitting Rocchio classifier with 11270 items; and 16 classes\n",
      "***********feeding DistModel with 11270 items, classes: 16\n",
      "***********finished DistModel: 11270 processed items\n",
      "┌ Info: vocabulary: 339982\n",
      "└ @ Main In[3]:10\n",
      "fitting Rocchio classifier with 11270 items; and 16 classes\n",
      "***********"
     ]
    },
    {
     "data": {
      "text/html": [
       "<table class=\"data-frame\"><thead><tr><th></th><th>accuracy</th><th>macro_recall</th><th>macro_f1</th><th>name</th><th>time</th></tr><tr><th></th><th>Float64</th><th>Float64</th><th>Float64</th><th>String</th><th>Any</th></tr></thead><tbody><p>4 rows × 5 columns</p><tr><th>1</th><td>0.519169</td><td>0.545443</td><td>0.512344</td><td>Rocchio with VectorModel</td><td>422 milliseconds</td></tr><tr><th>2</th><td>0.653355</td><td>0.652828</td><td>0.649962</td><td>Linear SVM with VectorModel</td><td>2204 milliseconds</td></tr><tr><th>3</th><td>0.645367</td><td>0.662801</td><td>0.646621</td><td>Rocchio with EntModel</td><td>412 milliseconds</td></tr><tr><th>4</th><td>0.686901</td><td>0.691691</td><td>0.686189</td><td>Linear SVM with EntModel</td><td>2163 milliseconds</td></tr></tbody></table>"
      ],
      "text/latex": [
       "\\begin{tabular}{r|ccccc}\n",
       "\t& accuracy & macro\\_recall & macro\\_f1 & name & time\\\\\n",
       "\t\\hline\n",
       "\t& Float64 & Float64 & Float64 & String & Any\\\\\n",
       "\t\\hline\n",
       "\t1 & 0.519169 & 0.545443 & 0.512344 & Rocchio with VectorModel & 422 milliseconds \\\\\n",
       "\t2 & 0.653355 & 0.652828 & 0.649962 & Linear SVM with VectorModel & 2204 milliseconds \\\\\n",
       "\t3 & 0.645367 & 0.662801 & 0.646621 & Rocchio with EntModel & 412 milliseconds \\\\\n",
       "\t4 & 0.686901 & 0.691691 & 0.686189 & Linear SVM with EntModel & 2163 milliseconds \\\\\n",
       "\\end{tabular}\n"
      ],
      "text/plain": [
       "4×5 DataFrame. Omitted printing of 1 columns\n",
       "│ Row │ accuracy │ macro_recall │ macro_f1 │ name                        │\n",
       "│     │ \u001b[90mFloat64\u001b[39m  │ \u001b[90mFloat64\u001b[39m      │ \u001b[90mFloat64\u001b[39m  │ \u001b[90mString\u001b[39m                      │\n",
       "├─────┼──────────┼──────────────┼──────────┼─────────────────────────────┤\n",
       "│ 1   │ 0.519169 │ 0.545443     │ 0.512344 │ Rocchio with VectorModel    │\n",
       "│ 2   │ 0.653355 │ 0.652828     │ 0.649962 │ Linear SVM with VectorModel │\n",
       "│ 3   │ 0.645367 │ 0.662801     │ 0.646621 │ Rocchio with EntModel       │\n",
       "│ 4   │ 0.686901 │ 0.691691     │ 0.686189 │ Linear SVM with EntModel    │"
      ]
     },
     "execution_count": 6,
     "metadata": {},
     "output_type": "execute_result"
    }
   ],
   "source": [
    "function run_rocchio(M)\n",
    "    classifier = fit(Rocchio, M.Xtrain, M.part.labels_train)\n",
    "    ypred = predict.(classifier, M.Xtest)\n",
    "    scores(ypred, M.part.labels_test)\n",
    "end\n",
    "\n",
    "function run_lsvm(M)\n",
    "    # liblinear needs a sparse Matrix in CSC format\n",
    "    Xtrain = sparse(M.Xtrain, M.model.m)\n",
    "    Xtest = sparse(M.Xtest, M.model.m)\n",
    "    \n",
    "    lsvm = linear_train(M.part.labels_train, Xtrain, C=0.1)\n",
    "    predictions, decision_values = linear_predict(lsvm, Xtest)\n",
    "    scores(predictions, M.part.labels_test)\n",
    "end\n",
    "\n",
    "perf = DataFrame(accuracy=Float64[], macro_recall=Float64[], macro_f1=Float64[], name=String[], time=[])\n",
    "using Dates\n",
    "for kind in [VectorModel, EntModel]\n",
    "    M = prepare_model(db, kind, 0.9)\n",
    "    start = now()\n",
    "    p = run_rocchio(M)\n",
    "    p[:time] = now() - start\n",
    "\n",
    "    p[:name] = \"Rocchio with $kind\"\n",
    "    push!(perf, p, columns=:intersect)\n",
    "    p = run_lsvm(M)\n",
    "    p[:time] = now() - start\n",
    "    p[:name] = \"Linear SVM with $kind\"\n",
    "    push!(perf, p, columns=:intersect)\n",
    "end\n",
    "\n",
    "perf"
   ]
  },
  {
   "cell_type": "markdown",
   "metadata": {},
   "source": [
    "# Conclusions\n",
    "\n",
    "Rocchio can be used instead of LIBLINEAR.jl whenever you want a pure julia solution, if Julia works then Rocchio will work.\n",
    "Another major use case is when the training time can't be ignored, i.e, many training examples with a few elements to be evaluated; the same may apply for conversion (sparse matrix construction) times. Finally, please notice that Rocchio works surprissingly well with `EntModel` in contrast to `VectorModel`; this is because `EntModel` measures the notion of tokens being descriptors of a class while `TfidfModel` (the weighting scheme behind `VectorModel`) is designed to describe token importance in a flat-collection."
   ]
  }
 ],
 "metadata": {
  "kernelspec": {
   "display_name": "Julia 1.2.0",
   "language": "julia",
   "name": "julia-1.2"
  },
  "language_info": {
   "file_extension": ".jl",
   "mimetype": "application/julia",
   "name": "julia",
   "version": "1.2.0"
  }
 },
 "nbformat": 4,
 "nbformat_minor": 4
}
